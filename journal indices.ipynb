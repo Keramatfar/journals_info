{
 "cells": [
  {
   "cell_type": "markdown",
   "metadata": {},
   "source": [
    "# This note read an excel file with ISSN, and Source Title cols and retrive journal information from Scimago. ISSns should not contains \"-\"."
   ]
  },
  {
   "cell_type": "code",
   "execution_count": 47,
   "metadata": {},
   "outputs": [],
   "source": [
    "import requests\n",
    "import pandas as pd\n",
    "from bs4 import BeautifulSoup\n",
    "import time\n",
    "df = pd.read_excel('deduplicated.xlsx')"
   ]
  },
  {
   "cell_type": "code",
   "execution_count": 48,
   "metadata": {},
   "outputs": [
    {
     "data": {
      "text/plain": [
       "2221"
      ]
     },
     "execution_count": 48,
     "metadata": {},
     "output_type": "execute_result"
    }
   ],
   "source": [
    "len(df[['ISSN', 'Source title']].drop_duplicates().values)"
   ]
  },
  {
   "cell_type": "code",
   "execution_count": 46,
   "metadata": {},
   "outputs": [
    {
     "ename": "TypeError",
     "evalue": "'NoneType' object is not subscriptable",
     "output_type": "error",
     "traceback": [
      "\u001b[1;31m---------------------------------------------------------------------------\u001b[0m",
      "\u001b[1;31mTypeError\u001b[0m                                 Traceback (most recent call last)",
      "\u001b[1;32m<ipython-input-46-db76217bde79>\u001b[0m in \u001b[0;36m<module>\u001b[1;34m\u001b[0m\n\u001b[0;32m      2\u001b[0m \u001b[1;32mfrom\u001b[0m \u001b[0mtqdm\u001b[0m\u001b[1;33m.\u001b[0m\u001b[0mnotebook\u001b[0m \u001b[1;32mimport\u001b[0m \u001b[0mtqdm\u001b[0m\u001b[1;33m\u001b[0m\u001b[1;33m\u001b[0m\u001b[0m\n\u001b[0;32m      3\u001b[0m \u001b[0ms\u001b[0m \u001b[1;33m=\u001b[0m \u001b[1;34m'Sorry, no results were found.'\u001b[0m\u001b[1;33m\u001b[0m\u001b[1;33m\u001b[0m\u001b[0m\n\u001b[1;32m----> 4\u001b[1;33m \u001b[1;32mfor\u001b[0m \u001b[0mi\u001b[0m\u001b[1;33m,\u001b[0m \u001b[0mrow\u001b[0m \u001b[1;32min\u001b[0m \u001b[0menumerate\u001b[0m\u001b[1;33m(\u001b[0m\u001b[0mdf\u001b[0m\u001b[1;33m[\u001b[0m\u001b[1;33m[\u001b[0m\u001b[1;34m'ISSN'\u001b[0m\u001b[1;33m,\u001b[0m \u001b[1;34m'Source title'\u001b[0m\u001b[1;33m]\u001b[0m\u001b[1;33m]\u001b[0m\u001b[1;33m.\u001b[0m\u001b[0mdrop_duplicates\u001b[0m\u001b[1;33m(\u001b[0m\u001b[1;33m)\u001b[0m\u001b[1;33m.\u001b[0m\u001b[0mvalues\u001b[0m\u001b[1;33m)\u001b[0m\u001b[1;33m:\u001b[0m\u001b[1;33m\u001b[0m\u001b[1;33m\u001b[0m\u001b[0m\n\u001b[0m\u001b[0;32m      5\u001b[0m     \u001b[0mprint\u001b[0m\u001b[1;33m(\u001b[0m\u001b[0mi\u001b[0m\u001b[1;33m)\u001b[0m\u001b[1;33m\u001b[0m\u001b[1;33m\u001b[0m\u001b[0m\n\u001b[0;32m      6\u001b[0m     \u001b[0miss\u001b[0m\u001b[1;33m,\u001b[0m \u001b[0mjournal\u001b[0m \u001b[1;33m=\u001b[0m \u001b[0mrow\u001b[0m\u001b[1;33m\u001b[0m\u001b[1;33m\u001b[0m\u001b[0m\n",
      "\u001b[1;31mTypeError\u001b[0m: 'NoneType' object is not subscriptable"
     ]
    }
   ],
   "source": [
    "output = []\n",
    "from tqdm.notebook import tqdm\n",
    "s = 'Sorry, no results were found.'\n",
    "for i, row in enumerate(df[['ISSN', 'Source title']].drop_duplicates().values):\n",
    "    print(i)\n",
    "    iss, journal = row\n",
    "    print(iss)\n",
    "    if type(iss) == float:\n",
    "        row = ['']*8\n",
    "        row[3] = journal\n",
    "        row[-1] = iss\n",
    "        output.append(row)\n",
    "        print(iss, 't1')\n",
    "        continue\n",
    "    search_base = 'https://www.scimagojr.com/journalsearch.php?q='\n",
    "    url = search_base+iss\n",
    "    #print(url)\n",
    "    res = requests.get(url).text\n",
    "    soup = BeautifulSoup(res)\n",
    "    if s in soup.text:\n",
    "        row = ['']*8\n",
    "        row[3] = journal\n",
    "        row[-1] = iss\n",
    "        output.append(row)\n",
    "        print('No result!')\n",
    "        print(iss, 't2')\n",
    "        continue\n",
    "    res = soup.findAll('div',{'class':\"search_results\"})\n",
    "    base_journal_url = 'https://www.scimagojr.com/'\n",
    "    try:\n",
    "        journal_relative_url = [x['href'] for x in res[0].findAll('a')][0]\n",
    "    except:\n",
    "        row = ['']*8\n",
    "        row[3] = journal\n",
    "        row[-1] = iss\n",
    "        output.append(row)\n",
    "        print(iss, 't3')\n",
    "        continue\n",
    "    journal_full_url = 'https://www.scimagojr.com/'+journal_relative_url\n",
    "    journal_page = requests.get(journal_full_url).text\n",
    "    soup = BeautifulSoup(journal_page)\n",
    "    try:\n",
    "        issns = soup.findAll('div', {'class': 'journalgrid'})[0].findAll('div')[5].findAll('p')[0].text.split(', ')\n",
    "    except:\n",
    "        time.sleep(60)\n",
    "        journal_page = requests.get(journal_full_url).text\n",
    "        soup = BeautifulSoup(journal_page)\n",
    "        issns = soup.findAll('div', {'class': 'journalgrid'})[0].findAll('div')[5].findAll('p')[0].text.split(', ')\n",
    "    issns = [x.strip('X').strip('x') for x in issns]\n",
    "    if not iss.strip('x').strip('X') in issns:\n",
    "        row = ['']*8\n",
    "        row[3] = journal\n",
    "        row[-1] = iss\n",
    "        output.append(row)\n",
    "        print(iss, 't4')\n",
    "        continue\n",
    "    #print(journal, issn)\n",
    "    s = \"Sorry, no results were found.\"\n",
    "    tabels = soup.findAll('div', {'class': 'cellslide'})\n",
    "    q = [x.text for x in tabels[1].findAll('tr')[-1].findAll('td')]\n",
    "    q.append(journal)\n",
    "    sjr = [x.text for x in tabels[3].findAll('tr')[-1].findAll('td')][1]\n",
    "    q.append(sjr)\n",
    "    country = soup.findAll('div', {'class': 'journalgrid'})[0].findAll('a')[0].text\n",
    "    q.append(country)\n",
    "    h = soup.find('p', {'class': 'hindexnumber'}).text\n",
    "    q.append(h)\n",
    "    q.append(iss)\n",
    "    output.append(q)\n",
    "    print(q)\n",
    "    time.sleep(2)"
   ]
  },
  {
   "cell_type": "code",
   "execution_count": 40,
   "metadata": {},
   "outputs": [],
   "source": [
    "pd.DataFrame(output, columns = ['field', 'year', 'Q', 'Title', 'Hindex', 'Country', 'SJR', 'issn']).to_excel('journals measures.xlsx')"
   ]
  }
 ],
 "metadata": {
  "kernelspec": {
   "display_name": "Python 3",
   "language": "python",
   "name": "python3"
  },
  "language_info": {
   "codemirror_mode": {
    "name": "ipython",
    "version": 3
   },
   "file_extension": ".py",
   "mimetype": "text/x-python",
   "name": "python",
   "nbconvert_exporter": "python",
   "pygments_lexer": "ipython3",
   "version": "3.7.4"
  }
 },
 "nbformat": 4,
 "nbformat_minor": 4
}
